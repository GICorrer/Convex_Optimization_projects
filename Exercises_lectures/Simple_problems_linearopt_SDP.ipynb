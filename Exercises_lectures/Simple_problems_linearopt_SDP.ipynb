{
 "cells": [
  {
   "cell_type": "code",
   "execution_count": 1,
   "id": "c1698473-042a-41a6-8e2f-2fd85791d461",
   "metadata": {},
   "outputs": [],
   "source": [
    "#convex optimization Python library\n",
    "import cvxpy as cp\n",
    "import numpy as np"
   ]
  },
  {
   "cell_type": "markdown",
   "id": "56f41dba-8af1-4d6d-abb8-664850020459",
   "metadata": {},
   "source": [
    "## Exercise 5"
   ]
  },
  {
   "cell_type": "markdown",
   "id": "46113372-d0c6-4815-9d9f-e7ceac146779",
   "metadata": {},
   "source": [
    "In this exercise we have the following Linear program:\n",
    "\n",
    "<p style=\"text-align: center;\"> minimize $f_0(x_1,x_2)$ </p>\n",
    "\n",
    "<p style=\"text-align: center;\"> subject to  $\\left\\{\\begin{matrix} 2x_1+x_2 \\geq 1\n",
    " \\\\ x_1+3x_2 \\geq 1\n",
    " \\\\ x_1 \\geq 0,\\;\\; x_2 \\geq 0\n",
    "\\end{matrix}\\right.$ ,</p>\n",
    "\n",
    "which is a particular case of a convex optimization problem. Both the objective and constraint functions are all linear. The program will then apply the library CVXPY to optimize this problem with different objective functions. Both the optimal values and optimal point are printed."
   ]
  },
  {
   "cell_type": "code",
   "execution_count": 2,
   "id": "750ac6a6-95fe-4081-8309-30f93fc1076d",
   "metadata": {},
   "outputs": [],
   "source": [
    "#Optimization variables\n",
    "x1 = cp.Variable()\n",
    "x2 = cp.Variable()"
   ]
  },
  {
   "cell_type": "code",
   "execution_count": 3,
   "id": "4a9c4921-6577-40e2-a94d-09ec914ed269",
   "metadata": {},
   "outputs": [],
   "source": [
    "#Constraints of the problem (it is the same for all the different objective functions\n",
    "constraints = [2*x1 + x2 >= 1,\n",
    "               x1 + 3*x2 >= 1,\n",
    "               x1 >= 0,\n",
    "               x2 >= 0]"
   ]
  },
  {
   "cell_type": "markdown",
   "id": "7b4397e0-cdff-45d6-b9ae-b11478f903a7",
   "metadata": {},
   "source": [
    "### Objective function a): $f_0(x_1,x_2) = x_1 + x_2$"
   ]
  },
  {
   "cell_type": "code",
   "execution_count": 4,
   "id": "2a057db1-134b-4f67-8a88-2997dddfd8c5",
   "metadata": {},
   "outputs": [],
   "source": [
    "#Definition of the objective function and the problem to be solved (in this case, minimization)\n",
    "obj = cp.Minimize(x1+x2)"
   ]
  },
  {
   "cell_type": "code",
   "execution_count": 5,
   "id": "7d55031f-dd15-47c6-9caa-58f10201eb4a",
   "metadata": {},
   "outputs": [
    {
     "name": "stdout",
     "output_type": "stream",
     "text": [
      "The optimal value is:  0.6000000000007311\n",
      "\n",
      "Values for the optimal set:\n",
      "x1 =  0.40000000000049696\n",
      "x2 =  0.20000000000023407\n"
     ]
    }
   ],
   "source": [
    "#This part connects the constraints with the objective function\n",
    "prob = cp.Problem(obj, constraints)\n",
    "\n",
    "#This part executes the optimization\n",
    "sol = prob.solve()\n",
    "\n",
    "print('The optimal value is: ',sol)\n",
    "print()\n",
    "print('Values for the optimal set:')\n",
    "print('x1 = ',x1.value)\n",
    "print('x2 = ',x2.value)"
   ]
  },
  {
   "cell_type": "markdown",
   "id": "1b771cc3-1f41-4955-b5f4-554a55a92e4b",
   "metadata": {},
   "source": [
    "### Objective function b): $f_0(x_1,x_2) = - (x_1 + x_2)$"
   ]
  },
  {
   "cell_type": "code",
   "execution_count": 6,
   "id": "d6dc758e-cf66-4fbe-b6fb-f266afc18bac",
   "metadata": {},
   "outputs": [],
   "source": [
    "#Definition of the objective function and the problem to be solved (in this case, minimization)\n",
    "obj = cp.Minimize(-x1-x2)"
   ]
  },
  {
   "cell_type": "code",
   "execution_count": 7,
   "id": "60c0e94a-290d-4154-adf4-d8023318da97",
   "metadata": {},
   "outputs": [
    {
     "name": "stdout",
     "output_type": "stream",
     "text": [
      "The optimal value is:  -inf\n",
      "\n",
      "Values for the optimal set:\n",
      "x1 =  None\n",
      "x2 =  None\n"
     ]
    }
   ],
   "source": [
    "#This part connects the constraints with the objective function\n",
    "prob = cp.Problem(obj, constraints)\n",
    "\n",
    "#This part executes the optimization\n",
    "sol = prob.solve()\n",
    "\n",
    "print('The optimal value is: ',sol)\n",
    "print()\n",
    "print('Values for the optimal set:')\n",
    "print('x1 = ',x1.value)\n",
    "print('x2 = ',x2.value)"
   ]
  },
  {
   "cell_type": "markdown",
   "id": "ea854fef-4705-4aeb-9f46-191ed8d9fa44",
   "metadata": {},
   "source": [
    "### Objective function c): $f_0(x_1,x_2) = x_1$"
   ]
  },
  {
   "cell_type": "code",
   "execution_count": 8,
   "id": "a9d1d141-a5e5-4dc3-bdf2-68020840b327",
   "metadata": {},
   "outputs": [],
   "source": [
    "#Definition of the objective function and the problem to be solved (in this case, minimization)\n",
    "obj = cp.Minimize(x1)"
   ]
  },
  {
   "cell_type": "code",
   "execution_count": 9,
   "id": "a7485942-5fed-4912-8714-1e5fe10adc20",
   "metadata": {},
   "outputs": [
    {
     "name": "stdout",
     "output_type": "stream",
     "text": [
      "The optimal value is:  0.0\n",
      "\n",
      "Values for the optimal set:\n",
      "x1 =  0.0\n",
      "x2 =  1.0\n"
     ]
    }
   ],
   "source": [
    "#This part connects the constraints with the objective function\n",
    "prob = cp.Problem(obj, constraints)\n",
    "\n",
    "#This part executes the optimization\n",
    "sol = prob.solve()\n",
    "\n",
    "print('The optimal value is: ',sol)\n",
    "print()\n",
    "print('Values for the optimal set:')\n",
    "print('x1 = ',x1.value)\n",
    "print('x2 = ',x2.value)"
   ]
  },
  {
   "cell_type": "markdown",
   "id": "844f9821-69ce-40ea-9982-ed644072a21a",
   "metadata": {},
   "source": [
    "  "
   ]
  },
  {
   "cell_type": "markdown",
   "id": "563d1882-a31f-47b2-92ca-f84ec7fab1fd",
   "metadata": {},
   "source": [
    "# Exercise 6"
   ]
  },
  {
   "cell_type": "markdown",
   "id": "d98b04f8-0c51-42d7-84ee-5e9571718403",
   "metadata": {},
   "source": [
    "In this problem, we have a SDP to optimize. A SDP is a convex optimization problem where the objective function is the trace of a matrix times the optimization variable matrix. The optimization variable has to be a positive semidefinite matrix and the constraint functions are all the trace of different matrices times the optimization variable, which is again a linear (therefore convex) function. In this case, the problem we want to solve is the following:\n",
    "\n",
    "<p style=\"text-align: center;\"> maximize $\\text{Tr}(AX)$ </p>\n",
    "\n",
    "<p style=\"text-align: center;\"> subject to  $\\left\\{\\begin{matrix} \\text{Tr}(X) = 1 \n",
    " \\\\ \\text{Tr}(BX) = 1\n",
    " \\\\ X \\succeq 0\n",
    "\\end{matrix}\\right.$ ,</p>\n",
    "\n",
    "where the notation $X \\succeq 0$ means that $X$ is a positive semidefinite matrix. This will, we are going to optimize over a positive semidefinite matrix with unitary trace, like a density matrix describing a quantum state."
   ]
  },
  {
   "cell_type": "code",
   "execution_count": 10,
   "id": "1ffd1084-80ab-44f9-9f2b-1df443b20523",
   "metadata": {},
   "outputs": [],
   "source": [
    "#Definition of the matrices appearing in the problem\n",
    "\n",
    "A = np.matrix([[0, 0, 0, 1],\n",
    "               [0, 0, 1, 0],\n",
    "               [0, 1, 0, 0],\n",
    "               [1, 0, 0, 0]])\n",
    "\n",
    "B = np.matrix([[1, 0, 0, 0],\n",
    "                [0, -1, 0, 0],\n",
    "                [0, 0, -1, 0],\n",
    "                [0, 0, 0, 1]])\n",
    "\n",
    "#Definition of the variable of the problem\n",
    "X = cp.Variable((4,4), symmetric=True)"
   ]
  },
  {
   "cell_type": "code",
   "execution_count": 11,
   "id": "9d6abdb8-1417-49e7-90cf-1226f2d5d572",
   "metadata": {},
   "outputs": [],
   "source": [
    "#Definition of the constraints of the optimization problem\n",
    "constraints_SDP = [cp.trace(B @ X) == 1,\n",
    "                   cp.trace(X) == 1,\n",
    "                   X >> 0]\n",
    "\n",
    "#Definition of the objective function and the problem to be solved\n",
    "obj_SDP = cp.Maximize(cp.trace(A@X))"
   ]
  },
  {
   "cell_type": "code",
   "execution_count": 12,
   "id": "d7727bc4-dffd-4c74-b511-4b766c81b780",
   "metadata": {},
   "outputs": [],
   "source": [
    "#This part connects the constraints with the objective function\n",
    "prob = cp.Problem(obj_SDP, constraints_SDP)\n",
    "\n",
    "#This part executes the optimization\n",
    "sol = prob.solve()"
   ]
  },
  {
   "cell_type": "code",
   "execution_count": 13,
   "id": "636a0b76-e71f-4f07-bf6b-4e1150a1e48c",
   "metadata": {},
   "outputs": [
    {
     "name": "stdout",
     "output_type": "stream",
     "text": [
      "The optimal value is: \n",
      "1.0000000000016853\n",
      "Values for the optimal set:\n",
      "X = \n",
      "[[ 5.00000000e-01 -2.10498613e-17  5.09391321e-18  5.00000000e-01]\n",
      " [-2.10498613e-17  4.26694290e-13  1.50252969e-12 -2.10499908e-17]\n",
      " [ 5.09391321e-18  1.50252969e-12  4.26694291e-13  5.09393864e-18]\n",
      " [ 5.00000000e-01 -2.10499908e-17  5.09393864e-18  5.00000000e-01]]\n"
     ]
    }
   ],
   "source": [
    "print('The optimal value is: ')\n",
    "print(sol)\n",
    "print('Values for the optimal set:')\n",
    "print('X = ')\n",
    "print(X.value)"
   ]
  },
  {
   "cell_type": "code",
   "execution_count": null,
   "id": "eaf90811-43bd-4a14-a556-86658c7cadc1",
   "metadata": {},
   "outputs": [],
   "source": []
  }
 ],
 "metadata": {
  "kernelspec": {
   "display_name": "Python 3 (ipykernel)",
   "language": "python",
   "name": "python3"
  },
  "language_info": {
   "codemirror_mode": {
    "name": "ipython",
    "version": 3
   },
   "file_extension": ".py",
   "mimetype": "text/x-python",
   "name": "python",
   "nbconvert_exporter": "python",
   "pygments_lexer": "ipython3",
   "version": "3.8.10"
  }
 },
 "nbformat": 4,
 "nbformat_minor": 5
}
